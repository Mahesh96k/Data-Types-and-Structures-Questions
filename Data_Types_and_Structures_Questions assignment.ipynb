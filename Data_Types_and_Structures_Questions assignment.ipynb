{
  "nbformat": 4,
  "nbformat_minor": 0,
  "metadata": {
    "colab": {
      "provenance": []
    },
    "kernelspec": {
      "name": "python3",
      "display_name": "Python 3"
    },
    "language_info": {
      "name": "python"
    }
  },
  "cells": [
    {
      "cell_type": "markdown",
      "source": [
        "# Data Types and Structures Questions"
      ],
      "metadata": {
        "id": "lov_G36gjMZ_"
      }
    },
    {
      "cell_type": "markdown",
      "source": [
        "01. What are data structures, and why are they important?\n",
        "\n",
        "ANS::\n",
        "\n",
        "The Data Structure is the way of the organizing and the storing the data in the computer in a such a way that it can accessed in a efficiently way.\n",
        "\n",
        "The data are the one of the organized form of the infromation where the data structure are get organized efficeint way and retrieval.\n",
        "\n",
        "The data type are important because choosing the right data stucture can siginificatly enhance the way of the performance."
      ],
      "metadata": {
        "id": "Eo8oNwknjO01"
      }
    },
    {
      "cell_type": "markdown",
      "source": [
        "2. Explain the difference between mutable and immutable data types with examples\n",
        "\n",
        "ANS::\n",
        "\n",
        "Mutable Data Type:\n",
        " These data are the data or the items that can be changed after they assigned in the syntax .\n",
        "\n",
        " where we can easily modified the data according to the our requirement .\n",
        "\n",
        " Immutable Data Type:\n",
        "  These data are the no change or the items that assinged onence it assigned that cant be changed in the immutable data type\n",
        "\n",
        "  the any operation that appears to modify the data will create a new object instead."
      ],
      "metadata": {
        "id": "YP8niLUdk0rX"
      }
    },
    {
      "cell_type": "markdown",
      "source": [
        "3. What are the main differences between lists and tuples in Python?\n",
        "\n",
        "ANS::\n",
        "\n",
        "** LIST >** The lsit is the mutuable and are the ordered collection of the elements .\n",
        "\n",
        "list can be modified and can upadte as per the needed.\n",
        "\n",
        "requires memory due to dyanmic in there nature.\n",
        "\n",
        "\n",
        "**TUPLES >** The Tuples are the immutable ordered collection of the items or the elements in the syntax .\n",
        "\n",
        "Tuple can't be changed as per the needed or the any update required for the item assignment .\n",
        "\n",
        "the tuples required less memory due to the immutability'.\n",
        "\n",
        "\n",
        "\n",
        "\n",
        "\n"
      ],
      "metadata": {
        "id": "jPua0AlulQOO"
      }
    },
    {
      "cell_type": "markdown",
      "source": [],
      "metadata": {
        "id": "QlsEfXInmp3O"
      }
    },
    {
      "cell_type": "markdown",
      "source": [
        "4. Describe how dictionaries store data?\n",
        "\n",
        "ANS::\n",
        "The Dictionaries in the python implements the hash tag table . its means that highly efficently data can be stored in the dictionay.\n",
        "\n",
        "In the dictionary the items assign in the form of or looks like the KEY : and the VALUE : form (KEY:VALUE)\n",
        "\n",
        "In the dictionary the pair of value and the key are co-associated with each other .\n",
        "\n",
        "For_Example:\n",
        "\n",
        "\"Name\":\"Mahesh\", \"Age\":21\n"
      ],
      "metadata": {
        "id": "uVW6EHCKlTSj"
      }
    },
    {
      "cell_type": "markdown",
      "source": [
        "5. Why might you use a set instead of a list in Python?\n",
        "\n",
        "ANS::\n",
        "\n",
        "The SETS and the LISTS in the python each have their unique strengths making them a useful for the scenario in the python langugae .\n",
        "\n",
        "The SETS automatically eliminate the duplicate value of the item or the elements it will not cross over the duplicate value in the item syntax when it runs the code.\n",
        "\n",
        "\n",
        "\n"
      ],
      "metadata": {
        "id": "v02r7x_XlekB"
      }
    },
    {
      "cell_type": "markdown",
      "source": [
        "6. What is a string in Python, and how is it different from a list?\n",
        "\n",
        "ANS::\n",
        "\n",
        "A string in Python is a sequence of characters, whereas a list is a sequence of items, which can be of any data type\n",
        "(integers, floats, strings, etc.). Let's break it down:"
      ],
      "metadata": {
        "id": "bIGetG0gmw5v"
      }
    },
    {
      "cell_type": "markdown",
      "source": [
        "7. How do tuples ensure data integrity in Python?\n",
        "\n",
        "ANS::\n",
        "\n",
        "Tuples ensure data integrity through their immutability.Once the tuple is created its elments can't be altered or removed or can't be changed in the item assignment.\n",
        "\n",
        "In the tuples By ensuring the data cannot be altered, tuples provide a reliable way to store fixed data.\n"
      ],
      "metadata": {
        "id": "JI6GDzG7m3ys"
      }
    },
    {
      "cell_type": "markdown",
      "source": [
        "8. What is a hash table, and how does it relate to dictionaries in Python?\n",
        "\n",
        "ANS::\n",
        "\n",
        "A hash table is a data structure that maps keys to values using a hash function.in the form of KEY:VALUE\n",
        "\n",
        "A hash table consists of an array of \"buckets\" where data is stored. Each bucket can contain multiple key-value pairs.\n",
        "\n",
        "In Python, dictionaries are implemented using hash tables."
      ],
      "metadata": {
        "id": "6_m8JjQuqHrD"
      }
    },
    {
      "cell_type": "markdown",
      "source": [
        "9.  Can lists contain different data types in Python?\n",
        "\n",
        "ANS::\n",
        "\n",
        "Yes the list contain the different type of the data type items in the python.\n",
        "\n",
        "For example:\n",
        "\n",
        "mixed_list = [42, \"Hello\", 3.14, [1, 2, 3], {\"name\": \"Alice\"}, (5, 6)]\n",
        "\n",
        "print(mixed_list)\n"
      ],
      "metadata": {
        "id": "FFi3Jo6iqOrv"
      }
    },
    {
      "cell_type": "markdown",
      "source": [
        "10. Explain why strings are immutable in Python?\n",
        "\n",
        "ANS::\n",
        "The string in the python are immutable its means that once the string items or the elements are created its cant be changed.\n",
        "\n",
        "The immutability in the string enhance the security by preventing accidental modification\n",
        "\n"
      ],
      "metadata": {
        "id": "QF7W5pCnqUmD"
      }
    },
    {
      "cell_type": "markdown",
      "source": [],
      "metadata": {
        "id": "T8qyyyUTssCX"
      }
    },
    {
      "cell_type": "markdown",
      "source": [
        "11. What advantages do dictionaries offer over lists for certain tasks?\n",
        "\n",
        "ANS::\n",
        "Dictionary in python offers several advanatges over lists due to their structure and the way the data is accessed and stored . while both are used for the store collection of there elements the dictionaries are optimized for the specific use cases .\n",
        "\n",
        "\n",
        "\n",
        "\n",
        "\n",
        "\n",
        "12. Describe a scenario where using a tuple would be preferable over a list?\n",
        "\n",
        "ANS::\n",
        "\n",
        "\n",
        "\n",
        "\n",
        "\n",
        "13. How do sets handle duplicate values in Python?\n",
        "\n",
        "ANS::\n",
        "In the pyhon the sets are built in the data structure where the duplicat values are automatically get removed by the python program.\n",
        "\n",
        "when we add any duplicate value in the set the set will ignored or ensuring that the repitation of the elements or the item assing will not happend .\n",
        "\n",
        "this unique behaviour of the set represen the best way of the non duplication of the values or elements in the python .\n",
        "\n",
        "\n",
        "\n",
        "\n",
        "14.  How does the “in” keyword work differently for lists and dictionaries?\n",
        "\n",
        "ANS::\n",
        "\n",
        "\n",
        "\n",
        "\n",
        "15. Can you modify the elements of a tuple? Explain why or why not?\n",
        "\n",
        "ANS::\n",
        "The Tuples are in the python are the immutable this means that the assing value or the element or the item that added in the tuples can't be changed when it get run .\n",
        "\n",
        "The effeciency of the immutablility of the tuples allows helps them to prevent them from the accidental modifiction of the data .\n",
        "\n",
        "\n",
        "\n",
        "\n",
        "16. What is a nested dictionary, and give an example of its use case?\n",
        "\n",
        "17. Describe the time complexity of accessing elements in a dictionary?\n",
        "\n",
        "18. In what situations are lists preferred over dictionaries?\n",
        "\n",
        "19. Why are dictionaries considered unordered, and how does that affect data retrieval?\n",
        "\n",
        "20. Explain the difference between a list and a dictionary in terms of data retrieval."
      ],
      "metadata": {
        "id": "NbTvHkULqZsj"
      }
    },
    {
      "cell_type": "markdown",
      "source": [
        "# **Practical Questions**"
      ],
      "metadata": {
        "id": "u-VFWPz2ufvy"
      }
    },
    {
      "cell_type": "code",
      "source": [
        "# 01.\n",
        "\n",
        "my_name = \"Mahesh\"\n",
        "print(my_name)\n"
      ],
      "metadata": {
        "colab": {
          "base_uri": "https://localhost:8080/"
        },
        "id": "WZjTdwyBuS53",
        "outputId": "5baa1235-2a8c-4008-c1ec-7e406de3fbe9"
      },
      "execution_count": 2,
      "outputs": [
        {
          "output_type": "stream",
          "name": "stdout",
          "text": [
            "Mahesh\n"
          ]
        }
      ]
    },
    {
      "cell_type": "code",
      "source": [
        "# 02.\n",
        "\n",
        "my_string = \"Hello, World!\"\n",
        "print(my_string)\n",
        "len(my_string)"
      ],
      "metadata": {
        "colab": {
          "base_uri": "https://localhost:8080/"
        },
        "id": "kL3_1cqNueMj",
        "outputId": "79130bad-b671-48db-e34e-8ae5f7454e05"
      },
      "execution_count": 5,
      "outputs": [
        {
          "output_type": "stream",
          "name": "stdout",
          "text": [
            "Hello, World!\n"
          ]
        },
        {
          "output_type": "execute_result",
          "data": {
            "text/plain": [
              "13"
            ]
          },
          "metadata": {},
          "execution_count": 5
        }
      ]
    },
    {
      "cell_type": "code",
      "source": [
        "# 03.\n",
        "\n",
        "my_string =\"python programing\"\n",
        "my_string\n",
        "my_string[:3]\n"
      ],
      "metadata": {
        "colab": {
          "base_uri": "https://localhost:8080/",
          "height": 36
        },
        "id": "yzXeym3Xu5Sx",
        "outputId": "858f8b27-440c-427a-f761-79f9c28e9c21"
      },
      "execution_count": 8,
      "outputs": [
        {
          "output_type": "execute_result",
          "data": {
            "text/plain": [
              "'pyt'"
            ],
            "application/vnd.google.colaboratory.intrinsic+json": {
              "type": "string"
            }
          },
          "metadata": {},
          "execution_count": 8
        }
      ]
    },
    {
      "cell_type": "code",
      "source": [
        "# 04.\n",
        "\n",
        "my_string =\"Hello\"\n",
        "my_string.upper()\n"
      ],
      "metadata": {
        "colab": {
          "base_uri": "https://localhost:8080/",
          "height": 36
        },
        "id": "nyQUlM4Rv6M5",
        "outputId": "a2c0b8dc-f97f-4122-e1a1-f74b520edc2f"
      },
      "execution_count": 9,
      "outputs": [
        {
          "output_type": "execute_result",
          "data": {
            "text/plain": [
              "'HELLO'"
            ],
            "application/vnd.google.colaboratory.intrinsic+json": {
              "type": "string"
            }
          },
          "metadata": {},
          "execution_count": 9
        }
      ]
    },
    {
      "cell_type": "code",
      "source": [
        "# 05.\n",
        "\n",
        "my_string =\"I like Apple\"\n",
        "my_string.replace(\"Apple\",\"orange\")"
      ],
      "metadata": {
        "colab": {
          "base_uri": "https://localhost:8080/",
          "height": 36
        },
        "id": "-Zjg9whIwaNv",
        "outputId": "18df120c-905a-4aa1-ed50-cdcb35e11594"
      },
      "execution_count": 11,
      "outputs": [
        {
          "output_type": "execute_result",
          "data": {
            "text/plain": [
              "'I like orange'"
            ],
            "application/vnd.google.colaboratory.intrinsic+json": {
              "type": "string"
            }
          },
          "metadata": {},
          "execution_count": 11
        }
      ]
    },
    {
      "cell_type": "code",
      "source": [
        "# 06.\n",
        "\n",
        "my_list =list(range(1,6))\n",
        "print(my_list)"
      ],
      "metadata": {
        "colab": {
          "base_uri": "https://localhost:8080/"
        },
        "id": "mfJe-8lbws3K",
        "outputId": "d45d8044-2eaf-4dcd-abe0-2e53cb1dfd6a"
      },
      "execution_count": 12,
      "outputs": [
        {
          "output_type": "stream",
          "name": "stdout",
          "text": [
            "[1, 2, 3, 4, 5]\n"
          ]
        }
      ]
    },
    {
      "cell_type": "code",
      "source": [
        "# 07.\n",
        "\n",
        "my_list = [1,2,3,4]\n",
        "my_list.append(10)\n",
        "print(my_list)"
      ],
      "metadata": {
        "colab": {
          "base_uri": "https://localhost:8080/"
        },
        "id": "-g-yyY75w_H0",
        "outputId": "78c2505c-65c6-4bb6-fc1c-0a0dff6d815e"
      },
      "execution_count": 13,
      "outputs": [
        {
          "output_type": "stream",
          "name": "stdout",
          "text": [
            "[1, 2, 3, 4, 10]\n"
          ]
        }
      ]
    },
    {
      "cell_type": "code",
      "source": [
        "# 08.\n",
        "\n",
        "my_list = [1,2,3,4,5]\n",
        "my_list.remove(3)\n",
        "print(my_list)"
      ],
      "metadata": {
        "colab": {
          "base_uri": "https://localhost:8080/"
        },
        "id": "B8ISfxloxhOC",
        "outputId": "d286f107-0a49-436b-fa14-32f35c477ccf"
      },
      "execution_count": 14,
      "outputs": [
        {
          "output_type": "stream",
          "name": "stdout",
          "text": [
            "[1, 2, 4, 5]\n"
          ]
        }
      ]
    },
    {
      "cell_type": "code",
      "source": [
        "# 09.\n",
        "\n",
        "my_list = [\"A\",\"B\",\"C\",\"D\"]\n",
        "my_list\n",
        "my_list[2]\n"
      ],
      "metadata": {
        "colab": {
          "base_uri": "https://localhost:8080/",
          "height": 36
        },
        "id": "ZR7r0tnExnp8",
        "outputId": "f13be024-9013-4793-9440-8f1ce34daade"
      },
      "execution_count": 15,
      "outputs": [
        {
          "output_type": "execute_result",
          "data": {
            "text/plain": [
              "'C'"
            ],
            "application/vnd.google.colaboratory.intrinsic+json": {
              "type": "string"
            }
          },
          "metadata": {},
          "execution_count": 15
        }
      ]
    },
    {
      "cell_type": "code",
      "source": [
        "# 10.\n",
        "\n",
        "my_list = [10,20,30,40,50]\n",
        "my_list.reverse()\n",
        "print(my_list)\n"
      ],
      "metadata": {
        "colab": {
          "base_uri": "https://localhost:8080/"
        },
        "id": "zb2E20qqx8dC",
        "outputId": "3b4146ac-5e04-4ac1-dedf-32dea0bfe00c"
      },
      "execution_count": 16,
      "outputs": [
        {
          "output_type": "stream",
          "name": "stdout",
          "text": [
            "[50, 40, 30, 20, 10]\n"
          ]
        }
      ]
    },
    {
      "cell_type": "code",
      "source": [
        "# 11.\n",
        "\n",
        "my_tuple =(10,20,30)\n",
        "print(my_tuple)"
      ],
      "metadata": {
        "colab": {
          "base_uri": "https://localhost:8080/"
        },
        "id": "DJT4a4_WyIan",
        "outputId": "deb738b5-256b-4b62-96f7-c79eb57ea124"
      },
      "execution_count": 17,
      "outputs": [
        {
          "output_type": "stream",
          "name": "stdout",
          "text": [
            "(10, 20, 30)\n"
          ]
        }
      ]
    },
    {
      "cell_type": "code",
      "source": [
        "# 12.\n",
        "\n",
        "my_tuple =('apple','banana','cherry')\n",
        "print(my_tuple)\n",
        "my_tuple[1]"
      ],
      "metadata": {
        "colab": {
          "base_uri": "https://localhost:8080/",
          "height": 54
        },
        "id": "CmAQwb9UyeVd",
        "outputId": "cc5e7ac4-1fa7-4d1e-cbce-b7fc2b5414c2"
      },
      "execution_count": 18,
      "outputs": [
        {
          "output_type": "stream",
          "name": "stdout",
          "text": [
            "('apple', 'banana', 'cherry')\n"
          ]
        },
        {
          "output_type": "execute_result",
          "data": {
            "text/plain": [
              "'banana'"
            ],
            "application/vnd.google.colaboratory.intrinsic+json": {
              "type": "string"
            }
          },
          "metadata": {},
          "execution_count": 18
        }
      ]
    },
    {
      "cell_type": "code",
      "source": [
        "# 13.\n",
        "\n",
        "my_tuple = (1,2,3,4,2)\n",
        "my_tuple.count(2)"
      ],
      "metadata": {
        "colab": {
          "base_uri": "https://localhost:8080/"
        },
        "id": "tAmi662pyoxp",
        "outputId": "69bc9b7d-c649-4568-d5d6-198817dd2f3d"
      },
      "execution_count": 20,
      "outputs": [
        {
          "output_type": "execute_result",
          "data": {
            "text/plain": [
              "2"
            ]
          },
          "metadata": {},
          "execution_count": 20
        }
      ]
    },
    {
      "cell_type": "code",
      "source": [
        "# 14.\n",
        "\n",
        "print((\"dog\",\"cat\",\"rabbit\").index(\"cat\"))"
      ],
      "metadata": {
        "colab": {
          "base_uri": "https://localhost:8080/"
        },
        "id": "YXcXZ4mXy0rg",
        "outputId": "cdfba828-f0e5-483a-ae15-75f54f2014eb"
      },
      "execution_count": 25,
      "outputs": [
        {
          "output_type": "stream",
          "name": "stdout",
          "text": [
            "1\n"
          ]
        }
      ]
    },
    {
      "cell_type": "code",
      "source": [
        "# 15.\n",
        "\n",
        "my_tuple =(\"apple\",\"banana\",\"orange\")\n",
        "my_tuple\n",
        "\"banana\"in my_tuple"
      ],
      "metadata": {
        "colab": {
          "base_uri": "https://localhost:8080/"
        },
        "id": "MV6eL8uQzS_s",
        "outputId": "c7423d0d-c6bb-4f3c-f36f-836583a5b009"
      },
      "execution_count": 26,
      "outputs": [
        {
          "output_type": "execute_result",
          "data": {
            "text/plain": [
              "True"
            ]
          },
          "metadata": {},
          "execution_count": 26
        }
      ]
    },
    {
      "cell_type": "code",
      "source": [
        "# 16.\n",
        "\n",
        "my_set = {1,2,3,4,5}\n",
        "my_set"
      ],
      "metadata": {
        "colab": {
          "base_uri": "https://localhost:8080/"
        },
        "id": "rcNFEzCF0Mex",
        "outputId": "a441c6ca-3cd3-41a9-8680-016a147a863a"
      },
      "execution_count": 27,
      "outputs": [
        {
          "output_type": "execute_result",
          "data": {
            "text/plain": [
              "{1, 2, 3, 4, 5}"
            ]
          },
          "metadata": {},
          "execution_count": 27
        }
      ]
    },
    {
      "cell_type": "code",
      "source": [
        "# 17.\n",
        "\n",
        "my_set = {1,2,3,4,5}\n",
        "my_set.add(6)\n",
        "print(my_set)"
      ],
      "metadata": {
        "colab": {
          "base_uri": "https://localhost:8080/"
        },
        "id": "1SCgqjOD0R_I",
        "outputId": "64b2e0f6-363d-4356-b3a8-9c148e5c3c0a"
      },
      "execution_count": 28,
      "outputs": [
        {
          "output_type": "stream",
          "name": "stdout",
          "text": [
            "{1, 2, 3, 4, 5, 6}\n"
          ]
        }
      ]
    },
    {
      "cell_type": "code",
      "source": [
        "# 18.\n",
        "\n",
        "my_tuple = (10,20,30,)\n",
        "print(my_tuple)"
      ],
      "metadata": {
        "colab": {
          "base_uri": "https://localhost:8080/"
        },
        "id": "W_AusOAF0bNS",
        "outputId": "1a1fe29a-8440-4e3f-a0df-e0a70aa44a93"
      },
      "execution_count": 30,
      "outputs": [
        {
          "output_type": "stream",
          "name": "stdout",
          "text": [
            "(10, 20, 30)\n"
          ]
        }
      ]
    },
    {
      "cell_type": "code",
      "source": [
        "# 19.\n",
        "\n",
        "my_tuple=(\"apple\",\"orange\",\"banana\")\n",
        "my_tuple[0]"
      ],
      "metadata": {
        "colab": {
          "base_uri": "https://localhost:8080/",
          "height": 36
        },
        "id": "EEjoZs_K0lB1",
        "outputId": "c51cbdc8-5ed2-42b6-8c21-523436dfe710"
      },
      "execution_count": 33,
      "outputs": [
        {
          "output_type": "execute_result",
          "data": {
            "text/plain": [
              "'apple'"
            ],
            "application/vnd.google.colaboratory.intrinsic+json": {
              "type": "string"
            }
          },
          "metadata": {},
          "execution_count": 33
        }
      ]
    },
    {
      "cell_type": "code",
      "source": [
        "# 20.\n",
        "\n",
        "my_tuple = (1,2,3,4,2)\n",
        "my_tuple.count(2)"
      ],
      "metadata": {
        "colab": {
          "base_uri": "https://localhost:8080/"
        },
        "id": "KtQbJnbd1RWE",
        "outputId": "e5c2db61-3846-4dc8-d745-d706b7386c94"
      },
      "execution_count": 34,
      "outputs": [
        {
          "output_type": "execute_result",
          "data": {
            "text/plain": [
              "2"
            ]
          },
          "metadata": {},
          "execution_count": 34
        }
      ]
    },
    {
      "cell_type": "code",
      "source": [
        "# 21.\n",
        "\n",
        "print((\"dog\",\"cat\",\"rabbit\").index(\"cat\"))\n"
      ],
      "metadata": {
        "colab": {
          "base_uri": "https://localhost:8080/"
        },
        "id": "b1dxT7K-1o-0",
        "outputId": "b339caeb-e507-4230-b807-949fc222d605"
      },
      "execution_count": 35,
      "outputs": [
        {
          "output_type": "stream",
          "name": "stdout",
          "text": [
            "1\n"
          ]
        }
      ]
    },
    {
      "cell_type": "code",
      "source": [
        "# 22.\n",
        "\n",
        "my_tuple =(\"apple\",\"banana\",\"orange\")\n",
        "my_tuple\n",
        "\"banana\"in my_tuple"
      ],
      "metadata": {
        "colab": {
          "base_uri": "https://localhost:8080/"
        },
        "id": "Nnxfe_8G1yPB",
        "outputId": "042f41bd-9ca5-41bf-c7c4-d232f1777195"
      },
      "execution_count": 36,
      "outputs": [
        {
          "output_type": "execute_result",
          "data": {
            "text/plain": [
              "True"
            ]
          },
          "metadata": {},
          "execution_count": 36
        }
      ]
    },
    {
      "cell_type": "code",
      "source": [
        "# 23.\n",
        "\n",
        "my_set = {1,2,3,4,5}\n",
        "my_set\n"
      ],
      "metadata": {
        "colab": {
          "base_uri": "https://localhost:8080/"
        },
        "id": "RnWtyUgX18TZ",
        "outputId": "5cb16c9b-5e36-4daa-bafc-db72d9e83aab"
      },
      "execution_count": 38,
      "outputs": [
        {
          "output_type": "execute_result",
          "data": {
            "text/plain": [
              "{1, 2, 3, 4, 5}"
            ]
          },
          "metadata": {},
          "execution_count": 38
        }
      ]
    },
    {
      "cell_type": "code",
      "source": [
        "# 24.\n",
        "\n",
        "my_set = {1,2,3,4,5}\n",
        "my_set.add(6)\n",
        "print(my_set)"
      ],
      "metadata": {
        "colab": {
          "base_uri": "https://localhost:8080/"
        },
        "id": "mTFzJerp2CKp",
        "outputId": "2ece27e3-34fb-49a6-b7a7-cbf928fa0ef4"
      },
      "execution_count": 39,
      "outputs": [
        {
          "output_type": "stream",
          "name": "stdout",
          "text": [
            "{1, 2, 3, 4, 5, 6}\n"
          ]
        }
      ]
    },
    {
      "cell_type": "code",
      "source": [],
      "metadata": {
        "id": "z2iLIj-u2IVP"
      },
      "execution_count": null,
      "outputs": []
    }
  ]
}